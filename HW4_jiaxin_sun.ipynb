{
 "cells": [
  {
   "cell_type": "markdown",
   "id": "29f98314",
   "metadata": {},
   "source": [
    "**Question 1: a.The difference between the \"standard error of the mean\" and the \"standard deviation\" of the original data**\n",
    "a.Standard error of the mean measures how reliable the sample mean is.\n",
    "\n",
    "The standard error of the mean is used to estimate how different the sample mean (the average from the sample) is from the true population mean (the average of the whole group). I will get to know whether the sample mean is reliable or not. For example, Find ten people, as the sample. Asking them for their rating of the movie *Zootopia*, then calculate their mean. After that, calculate the standard deviation, and by dividing the standard deviation by the square root of the sample size, you will get the standard error. A larger standard error means that the sample mean is less reliable and may differ significantly from the population mean, while a smaller standard error indicates that the sample mean is closer to the population mean. Additionally, increasing the sample size will also reduce the standard error.\n",
    "\n",
    "\n",
    "b.The standard deviation tells how \"spread out\" a set of data is.\n",
    "If the data points are far from the mean, the standard deviation is large. If the data points are close to the mean, the standard deviation is small.\n",
    "\n",
    "For example, select 5 classmates from TUT, calculate their exam scores mean, and then use the sample standard deviation formula to obtain the sample standard deviation. At this time, a larger standard deviation indicates that the scores are more dispersed around the mean, showing greater variation and a more scattered data distribution. If the standard deviation is smaller, it means that these scores are closer to the mean. This is how \"the standard deviation reflects the degree of dispersion of the data.\"\n",
    "\n",
    "The link to ChatGPT is below:\n",
    "https://chatgpt.com/share/66fe0ecc-ede0-8013-82cb-2ae3fa4c7d3e"
   ]
  },
  {
   "cell_type": "markdown",
   "id": "9b9e0ab4",
   "metadata": {},
   "source": [
    "**Question2: How can we use the \"standard error of the mean\" to create a 95% confidence interval which \"covers 95% of the bootstrapped sample means\"?**\n",
    "\n",
    "Begin by determining the mean of sample data.\n",
    "alculate the Standard Error of the Mean (SEM)\n",
    "Identify the Critical Value: For a 95% confidence interval, the critical value from the standard normal distribution (Z-distribution) is approximately 1.96. This value signifies the range that encompasses 95% of the distribution.\n",
    "Construct the Confidence Interval：The confidence interval can be expressed as the range between the mean minus 1.96 times the standard error of the mean and the mean plus 1.96 times the standard error of the mean.\n",
    "\n",
    "The link to ChatGPT is below:\n",
    "https://chatgpt.com/share/66fee460-9354-8013-9359-588eb4df9275"
   ]
  },
  {
   "cell_type": "markdown",
   "id": "b206aece",
   "metadata": {},
   "source": [
    "**Question3**\n",
    "\n",
    "In bootstrapping, we repeatedly resample our data and compute statistics (like the mean) on each resample. When it comes to creating a 95% confidence interval, we don’t always need to use the standard error. Instead, we can use the percentile method by applying `np.quantile(...)` on the distribution of bootstrapped means.\n",
    "\n",
    "Here’s how it works:\n",
    "1. **Generate bootstrapped means**: Resample our data with replacement multiple times (let's say 1000 times) and calculate the mean for each sample. This gives us a distribution of bootstrapped means.\n",
    "   \n",
    "2. **Use `np.quantile(...)`**: Once we have the bootstrapped means, use `np.quantile(...)` to find the 2.5th percentile (lower bound) and the 97.5th percentile (upper bound). These percentiles represent the lower and upper ends of a 95% confidence interval.\n",
    "   - The function might look like this: \n",
    "     '''\n",
    "     lower_bound = np.quantile(bootstrapped_means, 0.025)\n",
    "     upper_bound = np.quantile(bootstrapped_means, 0.975)\n",
    "     '''\n",
    "   - This tells you that 95% of the bootstrapped means lie between these two bounds.\n",
    "\n",
    "The reason for using percentiles rather than standard error here is that the percentile method directly relies on the distribution of bootstrapped means, which gives a more flexible, data-driven confidence interval, especially when the data isn’t normally distributed.\n"
   ]
  },
  {
   "cell_type": "markdown",
   "id": "212454f5",
   "metadata": {},
   "source": [
    "**Question4**"
   ]
  },
  {
   "cell_type": "code",
   "execution_count": 8,
   "id": "34cebd1c",
   "metadata": {},
   "outputs": [
    {
     "name": "stdout",
     "output_type": "stream",
     "text": [
      "95% Confidence Interval for the Population Mean: (13.1, 15.7)\n",
      "95% Confidence Interval for the Population Median: (13.0, 16.0)\n"
     ]
    }
   ],
   "source": [
    "import numpy as np\n",
    "\n",
    "# Sample data (you can replace this with your own sample)\n",
    "data = np.array([12, 15, 14, 10, 18, 16, 17, 15, 14, 13])\n",
    "\n",
    "# Function to calculate bootstrap confidence interval\n",
    "def bootstrap_confidence_interval(data, num_bootstrap_samples=1000, parameter='mean'):\n",
    "    # Step 1: Generate bootstrap samples and calculate the desired statistic (mean or median)\n",
    "    bootstrapped_stats = []\n",
    "    \n",
    "    for _ in range(num_bootstrap_samples):\n",
    "        # Create a bootstrap sample by resampling with replacement\n",
    "        bootstrap_sample = np.random.choice(data, size=len(data), replace=True)\n",
    "        \n",
    "        # Calculate the statistic based on the specified parameter\n",
    "        if parameter == 'mean':\n",
    "            bootstrapped_stats.append(np.mean(bootstrap_sample))\n",
    "        elif parameter == 'median':\n",
    "            bootstrapped_stats.append(np.median(bootstrap_sample))\n",
    "    \n",
    "    # Step 2: Calculate the 95% confidence interval using percentiles\n",
    "    lower_bound = np.quantile(bootstrapped_stats, 0.025)\n",
    "    upper_bound = np.quantile(bootstrapped_stats, 0.975)\n",
    "    \n",
    "    return lower_bound, upper_bound\n",
    "\n",
    "# Calculate 95% bootstrap confidence interval for the population mean\n",
    "mean_ci = bootstrap_confidence_interval(data, parameter='mean')\n",
    "print(f\"95% Confidence Interval for the Population Mean: {mean_ci}\")\n",
    "\n",
    "# Calculate 95% bootstrap confidence interval for the population median\n",
    "median_ci = bootstrap_confidence_interval(data, parameter='median')\n",
    "print(f\"95% Confidence Interval for the Population Median: {median_ci}\")"
   ]
  },
  {
   "cell_type": "markdown",
   "id": "2020f278",
   "metadata": {},
   "source": [
    "**Explanation of the Code:**\n",
    "1,Importing Libraries: We import NumPy, a powerful library for numerical operations in Python.\n",
    "\n",
    "2,Sample Data: You can replace the sample data array with your own dataset.\n",
    "\n",
    "3,Function Definition:\n",
    "\n",
    "  The function bootstrap_confidence_interval(data, num_bootstrap_samples=1000, parameter='mean') generates bootstrap samples and calculates the desired statistic (mean or median).\n",
    "  bootstrapped_stats stores the results of the statistic calculated from each bootstrap sample.\n",
    "\n",
    "4,Generating Bootstrap Samples:\n",
    "\n",
    "  For each bootstrap sample, we randomly select values from the original data with replacement.\n",
    "  Depending on the specified parameter, we either compute the mean or the median of the bootstrap sample and store it in bootstrapped_stats.\n",
    "\n",
    "5,Calculating Confidence Intervals:\n",
    "\n",
    "  We use np.quantile() to find the 2.5th and 97.5th percentiles of the bootstrapped statistics, which gives us the lower and upper bounds of the confidence interval.\n",
    "\n",
    "6,Usage:\n",
    "\n",
    "  The code first calculates the 95% confidence interval for the population mean and prints it.\n",
    "  It then calculates the 95% confidence interval for the population median and prints that as well.\n",
    "\n",
    "7,CHANGES:\n",
    "  Added an elif clause for standard deviation.\n",
    "  Original Code: The original version only calculated the mean and median.\n",
    "  Change: Added an elif clause for standard deviation.\n",
    " \n",
    "elif parameter == 'std':  # For standard deviation\n",
    "    bootstrapped_stats.append(np.std(bootstrap_sample, ddof=1))  # Using ddof=1 for sample standard deviation\n",
    "\n",
    "\n",
    "8,Summaries of chatgpt:\n",
    "Here’s a summary of our conversation:\n",
    "Understanding Bootstrap Confidence Intervals:\n",
    "We discussed how to create a 95% bootstrap confidence interval using bootstrapped sample means, emphasizing the use of the np.quantile(...) function to find the 2.5th and 97.5th percentiles.\n",
    "Modifying Code for Different Population Parameters:\n",
    "You requested assistance in modifying code to produce a 95% bootstrap confidence interval for various population parameters, not just the mean.\n",
    "I provided an example code snippet that calculates bootstrap confidence intervals for the population mean, median, standard deviation, and mode.\n",
    "Specific Changes Made:\n",
    "Standard Deviation Handling: Added code to calculate the standard deviation using np.std() with ddof=1.\n",
    "Mode Handling: Implemented a way to calculate the mode using scipy.stats.mode().\n",
    "Expanded Function Calls: Showed how to call the function for standard deviation and mode in addition to mean and median.\n",
    "Code Explanation:\n",
    "We went through the code to verify its functionality and discussed which parts were changed to accommodate different statistical parameters.\n",
    "\n",
    "The link to ChatGPT is below:\n",
    "https://chatgpt.com/share/66fee282-97a8-8013-a5f9-e6016394bfe2"
   ]
  },
  {
   "cell_type": "markdown",
   "id": "ad02e30f",
   "metadata": {},
   "source": [
    "**Question5:**\n",
    "\n",
    "1.Definitions:\n",
    "  Population Parameter**: This refers to a fixed, unknown value that describes a specific characteristic of the entire population (for instance, the actual mean or proportion).\n",
    "  Sample Statistic**: This is a value derived from a sample, which is a subset of the overall population. It serves as an estimate for the population parameter (such as the sample mean or sample proportion).\n",
    "\n",
    "2.Estimation:\n",
    "  The sample statistic represents our best estimate of the population parameter based on the data gathered. Since we seldom have complete access to the entire population, we depend on sample statistics to draw inferences.\n",
    "\n",
    "3.Variability:\n",
    "  Sample statistics can differ from one sample to another because of sampling error, which refers to the natural fluctuations that occur when drawing different samples. This variability indicates that the sample statistic might not precisely match the population parameter.\n",
    "\n",
    "4.Confidence Interval Construction\n",
    "  A confidence interval offers a range of values that is likely to include the population parameter. This interval is determined using the sample statistic and considers the variability associated with it. A wider interval reflects greater uncertainty regarding the location of the population parameter.\n",
    "  For instance, calculating a 95% confidence interval means that if we were to take numerous samples and create a confidence interval for each, around 95% of those intervals would encompass the true population parameter.\n",
    "\n",
    "5.Statistical Inference:\n",
    "  Recognizing the distinction between the two is crucial for statistical inference, which involves drawing conclusions about a population based on sample data. This understanding aids in assessing the reliability of our estimates and in making informed decisions based on those estimates.\n",
    "   \n",
    "In summary, distinguishing between the population parameter and the sample statistic is essential because it allows us to understand the uncertainty associated with our estimates and to construct confidence intervals that reflect this uncertainty. By acknowledging this distinction, we can make more informed decisions and interpretations based on our data.\n",
    "\n",
    "The link to ChatGPT is below:\n",
    "https://chatgpt.com/share/66fee75a-8cb0-8013-9ce3-3b587f7a2948"
   ]
  },
  {
   "cell_type": "markdown",
   "id": "7abc6efa",
   "metadata": {},
   "source": [
    "**Question6: **\n",
    "\n",
    "1.What is the process of bootstrapping?\n",
    "ANSWER: Imagine you have 10 balls, they are all in a black box, which you can't see inside, these 10 balls is your sample. Then, you draw one of it from the box, and then put it back to the box, repeat this action for 10 times. And in this process, you may pick the same ball more than once. If you repeat this action over and over, we assume it will happen n times, you will create n samples. Basically, it is like making copies of your black box of balls and seeing how much the results change across those copies. This helps you know what might happen with more balls, even though you only have 10 balls.\n",
    "\n",
    "\n",
    "2.What is the main purpose of bootstrapping?\n",
    "ANSWER: As I said in previous answer,in the process od bootstrapping, we get lots of samples which are many times more than we actually have. So the main purpose of bootsrapping is to help you gain the confidence interval,figure out how reliable your estimates are, even when you’re working with a limited amount of data.Then we will know the approximate range, instead of getting bigger sample.\n",
    "\n",
    "\n",
    "3.If you had a (hypothesized) guess about what the average of a population was, and you had a sample of size n from that population, how could you use bootstrapping to assess whether or not your (hypothesized) guess might be plausible?\n",
    "ANSWER:  Imagine there are 20 balls with numbers printed on them, but they all in a black box so we do not know the average of a population. you guess the average of a population should be 7.\n",
    "\n",
    "Firstly,  We start drawing balls, record the numbers, and each time put the ball back in the box. We repeat this many times, about 100 times or 1000 times; you can do as many times as you want. \n",
    "\n",
    "Then, we calculate the average of the recorded numbers and compare it with your previous guess of 7. If it is very close, it indicates that your guess is relatively accurate. At this time, we cam call your hypothesizeed might be plausible."
   ]
  },
  {
   "cell_type": "markdown",
   "id": "b0881fd6",
   "metadata": {},
   "source": [
    "**Question7: **\n",
    "To understand why a confidence interval overlapping zero leads to failing to reject the null hypothesis, let's break down the concepts involved in hypothesis testing and confidence intervals.\n",
    "\n",
    "To understand why a confidence interval overlapping zero leads to failing to reject the null hypothesis, let's break down the concepts involved in hypothesis testing and confidence intervals.\n",
    "\n",
    "Confidence Intervals and Null Hypothesis\n",
    "1.Confidence Interval (CI): A confidence interval gives a range of values that likely contains the population parameter (e.g., the mean effect of a drug). If a CI includes zero, it suggests that there is a possibility that the true average effect of the drug could be no effect (zero).\n",
    "\n",
    "2.Null Hypothesis (H0): The null hypothesis typically posits that there is no effect (in this case, that the drug has no average effect on health). In formal terms, it states that the population mean (μ) equals zero (or any specific value).\n",
    "\n",
    "3.Failing to Reject H0: When the CI overlaps zero, it means that the data do not provide strong enough evidence to support a conclusion that the drug has a significant effect. This leads to the conclusion that we \"fail to reject\" the null hypothesis. \n",
    "\n",
    "Sample Mean vs. Population Mean\n",
    "-Observed Sample Mean: This is the average calculated from your sample data. It may not equal zero, indicating that the sample shows some effect. However, the sample mean is subject to variability due to sampling error.\n",
    "  \n",
    "-Population Parameter: This is the true average effect we are trying to estimate. Hypothesis testing is concerned with determining whether we can conclude that the sample mean significantly differs from the hypothesized population mean (which is often zero under H0).\n",
    "\n",
    "Variability and Uncertainty\n",
    "-Variability of Sample Means: Due to sampling variability, different samples can yield different sample means. Even if a sample mean is not zero, it doesn't provide definitive evidence against the null hypothesis unless we have confidence that this observed difference is not due to chance.\n",
    "\n",
    "Rejecting the Null Hypothesis\n",
    "To reject the null hypothesis, the confidence interval must not include zero. This implies that the data provide sufficient evidence to conclude that there is a statistically significant effect of the drug. Here’s how this can happen:\n",
    "\n",
    "1.Narrow CI: If the confidence interval is narrow and entirely above (or below) zero, it indicates that the average effect of the drug is significantly different from zero.\n",
    "\n",
    "2.Large Sample Size: A larger sample size typically results in a narrower confidence interval due to reduced variability in the sample mean estimates. This makes it more likely to exclude zero.\n",
    "\n",
    "3.Strong Evidence: If the observed sample mean is far from zero and the associated CI does not overlap with zero, we can conclude that the drug has an average effect (either positive or negative) and reject the null hypothesis.\n",
    "\n",
    "Conclusion\n",
    "In summary, a confidence interval that includes zero means that the observed sample mean, while potentially different from zero, does not provide strong enough evidence to reject the null hypothesis. Conversely, if the CI does not include zero, this indicates that the data provide sufficient evidence to reject the null hypothesis, suggesting a statistically significant effect. Understanding the role of variability and the distinction between sample and population means is crucial for making these inferences in hypothesis testing."
   ]
  },
  {
   "cell_type": "markdown",
   "id": "d4d698c2",
   "metadata": {},
   "source": [
    "**Question8:**\n",
    "\n",
    "**a.Problem Introduction**\n",
    "**Explanation of the Null Hypothesis of \"No Effect\"**\n",
    "Definition: Define the Null Hypothesis (H0) in this context: it posits that the vaccine has no effect on health scores.\n",
    "Implications: Discuss what it means if we fail to reject the Null Hypothesis—essentially that any observed differences are due to chance rather than the vaccine.\n",
    "Alternative Hypothesis (H1): Introduce the alternative hypothesis that the vaccine does have an effect on health scores.\n",
    "\n",
    "**Data Visualization**"
   ]
  },
  {
   "cell_type": "code",
   "execution_count": 9,
   "id": "bfae5b60",
   "metadata": {},
   "outputs": [
    {
     "name": "stdout",
     "output_type": "stream",
     "text": [
      "Requirement already satisfied: pandas in /opt/conda/lib/python3.11/site-packages (2.1.3)\n",
      "Requirement already satisfied: matplotlib in /opt/conda/lib/python3.11/site-packages (3.8.2)\n",
      "Requirement already satisfied: numpy<2,>=1.23.2 in /opt/conda/lib/python3.11/site-packages (from pandas) (1.24.4)\n",
      "Requirement already satisfied: python-dateutil>=2.8.2 in /opt/conda/lib/python3.11/site-packages (from pandas) (2.8.2)\n",
      "Requirement already satisfied: pytz>=2020.1 in /opt/conda/lib/python3.11/site-packages (from pandas) (2023.3.post1)\n",
      "Requirement already satisfied: tzdata>=2022.1 in /opt/conda/lib/python3.11/site-packages (from pandas) (2023.3)\n",
      "Requirement already satisfied: contourpy>=1.0.1 in /opt/conda/lib/python3.11/site-packages (from matplotlib) (1.2.0)\n",
      "Requirement already satisfied: cycler>=0.10 in /opt/conda/lib/python3.11/site-packages (from matplotlib) (0.12.1)\n",
      "Requirement already satisfied: fonttools>=4.22.0 in /opt/conda/lib/python3.11/site-packages (from matplotlib) (4.46.0)\n",
      "Requirement already satisfied: kiwisolver>=1.3.1 in /opt/conda/lib/python3.11/site-packages (from matplotlib) (1.4.5)\n",
      "Requirement already satisfied: packaging>=20.0 in /opt/conda/lib/python3.11/site-packages (from matplotlib) (23.2)\n",
      "Requirement already satisfied: pillow>=8 in /opt/conda/lib/python3.11/site-packages (from matplotlib) (10.1.0)\n",
      "Requirement already satisfied: pyparsing>=2.3.1 in /opt/conda/lib/python3.11/site-packages (from matplotlib) (3.1.1)\n",
      "Requirement already satisfied: six>=1.5 in /opt/conda/lib/python3.11/site-packages (from python-dateutil>=2.8.2->pandas) (1.16.0)\n"
     ]
    },
    {
     "data": {
      "image/png": "[encoded data removed]",
      "text/plain": [
       "<Figure size 1000x600 with 1 Axes>"
      ]
     },
     "metadata": {},
     "output_type": "display_data"
    }
   ],
   "source": [
    "!pip install pandas matplotlib\n",
    "\n",
    "\n",
    "import pandas as pd\n",
    "import matplotlib.pyplot as plt\n",
    "\n",
    "# Load the data from the CSV file\n",
    "data = pd.read_csv('vaccine_data.csv')\n",
    "\n",
    "# Create a bar plot to compare initial and final health scores\n",
    "plt.figure(figsize=(10, 6))\n",
    "plt.bar(data['PatientID'], data['InitialHealthScore'], label='Initial Health Score', alpha=0.6)\n",
    "plt.bar(data['PatientID'], data['FinalHealthScore'], label='Final Health Score', alpha=0.6)\n",
    "plt.xlabel('Patient ID')\n",
    "plt.ylabel('Health Score')\n",
    "plt.title('Comparison of Initial and Final Health Scores')\n",
    "plt.legend()\n",
    "plt.show()\n"
   ]
  },
  {
   "cell_type": "markdown",
   "id": "82c8dfe5",
   "metadata": {},
   "source": [
    "**b.Quantitative Analysis**\n",
    "Calculate the difference in scores:\n",
    "Score difference = Final Health Score - Initial Health Score\n",
    "Use bootstrapping to assess significance:\n",
    "Randomly sample the differences to create a distribution and calculate the mean difference and its confidence interval."
   ]
  },
  {
   "cell_type": "code",
   "execution_count": 10,
   "id": "ea7c51a0",
   "metadata": {},
   "outputs": [
    {
     "name": "stdout",
     "output_type": "stream",
     "text": [
      "Mean Difference: 3.3\n",
      "95% Confidence Interval: [0.9 5.6]\n"
     ]
    }
   ],
   "source": [
    "import numpy as np\n",
    "\n",
    "# Calculate the differences\n",
    "data['ScoreDifference'] = data['FinalHealthScore'] - data['InitialHealthScore']\n",
    "differences = data['ScoreDifference'].values\n",
    "\n",
    "# Bootstrapping\n",
    "np.random.seed(42)\n",
    "n_iterations = 10000\n",
    "means = np.zeros(n_iterations)\n",
    "\n",
    "for i in range(n_iterations):\n",
    "    sample = np.random.choice(differences, size=len(differences), replace=True)\n",
    "    means[i] = np.mean(sample)\n",
    "\n",
    "# Confidence Interval\n",
    "conf_interval = np.percentile(means, [2.5, 97.5])\n",
    "mean_difference = np.mean(differences)\n",
    "\n",
    "print(f\"Mean Difference: {mean_difference}\")\n",
    "print(f\"95% Confidence Interval: {conf_interval}\")\n"
   ]
  },
  {
   "cell_type": "markdown",
   "id": "0b88ae2a",
   "metadata": {},
   "source": [
    "Methodology Code and Explanations\n",
    "The bootstrapping method allows us to estimate the sampling distribution of the mean difference without relying on the assumptions of normality. By resampling the differences and calculating the mean for each iteration, we can construct a confidence interval to determine if the mean difference is significantly different from zero.\n",
    "\n",
    "Supporting Visualizations\n",
    "In addition to the bar plot comparing initial and final scores, we can create a histogram of the bootstrapped means to visualize the distribution."
   ]
  },
  {
   "cell_type": "code",
   "execution_count": 11,
   "id": "e6b41d71",
   "metadata": {
    "scrolled": true
   },
   "outputs": [
    {
     "data": {
      "image/png": "[encoded data removed]",
      "text/plain": [
       "<Figure size 1000x600 with 1 Axes>"
      ]
     },
     "metadata": {},
     "output_type": "display_data"
    }
   ],
   "source": [
    "plt.figure(figsize=(10, 6))\n",
    "plt.hist(means, bins=30, edgecolor='black', alpha=0.7)\n",
    "plt.axvline(mean_difference, color='red', linestyle='dashed', linewidth=2, label='Mean Difference')\n",
    "plt.title('Bootstrapped Means of Score Differences')\n",
    "plt.xlabel('Mean Difference')\n",
    "plt.ylabel('Frequency')\n",
    "plt.legend()\n",
    "plt.show()"
   ]
  },
  {
   "cell_type": "markdown",
   "id": "5c54c72e",
   "metadata": {},
   "source": [
    "**c.Findings and Discussion**\n",
    "From the analysis, we observe the following:\n",
    "\n",
    "The mean difference in health scores is [insert mean_difference].\n",
    "The 95% confidence interval does not include zero, suggesting that the vaccine has a statistically significant effect on improving health scores.\n",
    "These findings indicate that we can reject the null hypothesis in favor of the alternative hypothesis, supporting the effectiveness of the vaccine.\n",
    "\n",
    "Conclusion Regarding a Null Hypothesis of \"No Effect\"\n",
    "Based on the analysis and the calculated confidence interval, we conclude that the vaccine does have a significant effect on improving health scores. Therefore, we reject the null hypothesis of \"no effect.\"\n",
    "\n",
    "Further Considerations\n",
    "Future studies should consider larger sample sizes and control groups to further validate the vaccine's effectiveness. Additionally, analyzing demographic factors like age and gender may provide deeper insights into the vaccine's impact on different populations.\n",
    "\n",
    "\n",
    "\n",
    "Here's a summary of chatGPT:\n",
    "1.Vaccine Data Analysis:\n",
    "You shared a dataset for analyzing the effectiveness of a new vaccine developed by AliTech, which includes details like Patient ID, Age, Gender, Initial Health Score, and Final Health Score.\n",
    "\n",
    "2.Code to Visualize Data:\n",
    "You provided code to visualize the comparison between initial and final health scores using `matplotlib`. However, you encountered a `FileNotFoundError` when trying to load the CSV file.\n",
    "\n",
    "3.Fixing FileNotFoundError:\n",
    "I explained how to resolve the `FileNotFoundError`, including ensuring the CSV file exists in the correct directory and checking the current working directory using `os.getcwd()`.\n",
    "\n",
    "4.Uploading CSV in Jupyter Notebook:\n",
    "I provided a step-by-step guide on how to upload a CSV file in Jupyter Notebook, including using the Upload button in the Jupyter interface and loading the file with `pandas`.\n",
    "\n",
    "The link to ChatGPT is below: https://chatgpt.com/share/66ff4665-95dc-8013-93f6-b519459125bd"
   ]
  },
  {
   "cell_type": "markdown",
   "id": "993c73f0",
   "metadata": {},
   "source": [
    "Question9: \n",
    "somewhat"
   ]
  }
 ],
 "metadata": {
  "kernelspec": {
   "display_name": "Python 3 (ipykernel)",
   "language": "python",
   "name": "python3"
  },
  "language_info": {
   "codemirror_mode": {
    "name": "ipython",
    "version": 3
   },
   "file_extension": ".py",
   "mimetype": "text/x-python",
   "name": "python",
   "nbconvert_exporter": "python",
   "pygments_lexer": "ipython3",
   "version": "3.11.6"
  }
 },
 "nbformat": 4,
 "nbformat_minor": 5
}
